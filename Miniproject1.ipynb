{
 "cells": [
  {
   "cell_type": "code",
   "execution_count": 19,
   "metadata": {},
   "outputs": [
    {
     "name": "stdout",
     "output_type": "stream",
     "text": [
      "enter number44\n"
     ]
    }
   ],
   "source": [
    "numberList = [43,23,1,67,54,2,34,56,23,65,12,9,87,4,33]\n",
    "#numberList[3]\n",
    "numberList = sorted(numberList)\n",
    "#numberList[3]\n",
    "a = len(numberList)\n",
    "#print(a)\n",
    "sumSelector = int(input(\"enter number\"))\n",
    "#int(sumSelector)\n"
   ]
  },
  {
   "cell_type": "code",
   "execution_count": 20,
   "metadata": {},
   "outputs": [],
   "source": [
    "def isPrizeGiven(numberList,sumSelector):\n",
    "     i=0\n",
    "     j = len(numberList)-1\n",
    "     int(sumSelector)\n",
    "     if i>=j:\n",
    "        return False\n",
    "     while i<=j:\n",
    "        currentSum = numberList[i]+numberList[j]\n",
    "        print(i,j,currentSum)\n",
    "        if currentSum==sumSelector:\n",
    "            return True\n",
    "        if currentSum > sumSelector:\n",
    "            j=j-1\n",
    "        else :\n",
    "            i=i+1\n",
    "            return False"
   ]
  },
  {
   "cell_type": "code",
   "execution_count": 21,
   "metadata": {},
   "outputs": [
    {
     "name": "stdout",
     "output_type": "stream",
     "text": [
      "0 14 88\n",
      "0 13 68\n",
      "0 12 66\n",
      "0 11 57\n",
      "0 10 55\n",
      "0 9 44\n",
      "No escape\n"
     ]
    }
   ],
   "source": [
    "if isPrizeGiven(numberList,sumSelector):\n",
    "    print(\"No escape\")\n",
    "else:\n",
    "    print(\"You saved\")"
   ]
  },
  {
   "cell_type": "code",
   "execution_count": null,
   "metadata": {},
   "outputs": [],
   "source": []
  }
 ],
 "metadata": {
  "kernelspec": {
   "display_name": "Python 3",
   "language": "python",
   "name": "python3"
  },
  "language_info": {
   "codemirror_mode": {
    "name": "ipython",
    "version": 3
   },
   "file_extension": ".py",
   "mimetype": "text/x-python",
   "name": "python",
   "nbconvert_exporter": "python",
   "pygments_lexer": "ipython3",
   "version": "3.7.4"
  }
 },
 "nbformat": 4,
 "nbformat_minor": 2
}
