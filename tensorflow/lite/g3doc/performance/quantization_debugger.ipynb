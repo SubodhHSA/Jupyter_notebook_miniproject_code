{
  "cells": [
    {
      "cell_type": "markdown",
      "metadata": {
        "id": "KimMZUVqcJ8_"
      },
      "source": [
        "##### Copyright 2024 The AI Edge Authors."
      ]
    },
    {
      "cell_type": "code",
      "execution_count": null,
      "metadata": {
        "id": "BRQ6HQ8zcV5v"
      },
      "outputs": [],
      "source": [
        "#@title Licensed under the Apache License, Version 2.0 (the \"License\");\n",
        "# you may not use this file except in compliance with the License.\n",
        "# You may obtain a copy of the License at\n",
        "#\n",
        "# https://www.apache.org/licenses/LICENSE-2.0\n",
        "#\n",
        "# Unless required by applicable law or agreed to in writing, software\n",
        "# distributed under the License is distributed on an \"AS IS\" BASIS,\n",
        "# WITHOUT WARRANTIES OR CONDITIONS OF ANY KIND, either express or implied.\n",
        "# See the License for the specific language governing permissions and\n",
        "# limitations under the License."
      ]
    },
    {
      "cell_type": "markdown",
      "metadata": {
        "id": "BlWzg1D9_EhW"
      },
      "source": [
        "# Inspecting Quantization Errors with Quantization Debugger"
      ]
    },
    {
      "cell_type": "markdown",
      "metadata": {
        "id": "XLoHL19yb-a0"
      },
      "source": [
        "<table class=\"tfo-notebook-buttons\" align=\"left\">\n",
        "  <td>\n",
        "    <a target=\"_blank\" href=\"https://www.tensorflow.org/lite/performance/quantization_debugger\"><img src=\"https://www.tensorflow.org/images/tf_logo_32px.png\" />View on TensorFlow.org</a>\n",
        "  </td>\n",
        "  <td>\n",
        "    <a target=\"_blank\" href=\"https://colab.research.google.com/github/tensorflow/tensorflow/blob/master/tensorflow/lite/g3doc/performance/quantization_debugger.ipynb\"><img src=\"https://www.tensorflow.org/images/colab_logo_32px.png\" />Run in Google Colab</a>\n",
        "  </td>\n",
        "  <td>\n",
        "    <a target=\"_blank\" href=\"https://github.com/tensorflow/tensorflow/blob/master/tensorflow/lite/g3doc/performance/quantization_debugger.ipynb\"><img src=\"https://www.tensorflow.org/images/GitHub-Mark-32px.png\" />View source on GitHub</a>\n",
        "  </td>\n",
        "  <td>\n",
        "    <a href=\"https://storage.googleapis.com/tensorflow_docs/tensorflow/tensorflow/lite/g3doc/performance/quantization_debugger.ipynb\"><img src=\"https://www.tensorflow.org/images/download_logo_32px.png\" />Download notebook</a>\n",
        "  </td>\n",
        "  <td>\n",
        "    <a href=\"https://tfhub.dev/google/imagenet/mobilenet_v3_small_100_224/classification/5\"><img src=\"https://www.tensorflow.org/images/hub_logo_32px.png\" />See TF Hub model</a>\n",
        "  </td>\n",
        "</table>"
      ]
    },
    {
      "cell_type": "markdown",
      "metadata": {
        "id": "MWO_yYDGcGWY"
      },
      "source": [
        "Although full-integer quantization provides improved model size and latency, the\n",
        "quantized model won't always work as expected. It's usually expected for the\n",
        "model quality (e.g. accuracy, mAP, WER) to be slightly lower than the original\n",
        "float model. However, there are cases where the model quality can go below your\n",
        "expectation or generated completely wrong results.\n",
        "\n",
        "When this problem happens, it's tricky and painful to spot the root cause of the\n",
        "quantization error, and it's even more difficult to fix the quantization error.\n",
        "To assist this model inspection process, **quantization debugger** can be used\n",
        "to identify problematic layers, and **selective quantization** can leave those\n",
        "problematic layers in float so that the model accuracy can be recovered at the\n",
        "cost of reduced benefit from quantization.\n",
        "\n",
        "Note: This API is experimental, and there might be breaking changes in the API\n",
        "in the course of improvements."
      ]
    },
    {
      "cell_type": "markdown",
      "metadata": {
        "id": "9kD29R1I_Mn6"
      },
      "source": [
        "## Quantization Debugger\n",
        "\n",
        "Quantization debugger makes it possible to do quantization quality metric\n",
        "analysis in the existing model. Quantization debugger can automate processes for\n",
        "running model with a debug dataset, and collecting quantization quality metrics\n",
        "for each tensors.\n",
        "\n",
        "Note: Quantization debugger and selective quantization currently only works for\n",
        "full-integer quantization with int8 activations."
      ]
    },
    {
      "cell_type": "markdown",
      "metadata": {
        "id": "221Qon7G_PmZ"
      },
      "source": [
        "### Prerequisites\n",
        "\n",
        "If you already have a pipeline to quantize a model, you have all necessary\n",
        "pieces to run quantization debugger!\n",
        "\n",
        "*   Model to quantize\n",
        "*   Representative dataset\n",
        "\n",
        "In addition to model and data, you will need to use a data processing framework\n",
        "(e.g. pandas, Google Sheets) to analyze the exported results."
      ]
    },
    {
      "cell_type": "markdown",
      "metadata": {
        "id": "qTEEzJWo_iZ_"
      },
      "source": [
        "### Setup\n",
        "\n",
        "This section prepares libraries, MobileNet v3 model, and test dataset of 100\n",
        "images."
      ]
    },
    {
      "cell_type": "code",
      "execution_count": 1,
      "metadata": {
        "id": "l7epUDUP_6qo",
        "colab": {
          "base_uri": "https://localhost:8080/"
        },
        "outputId": "5daace96-7c0e-4949-e6de-e79652397154"
      },
      "outputs": [
        {
          "output_type": "stream",
          "name": "stdout",
          "text": [
            "Found existing installation: tensorflow 2.17.1\n",
            "Uninstalling tensorflow-2.17.1:\n",
            "  Successfully uninstalled tensorflow-2.17.1\n",
            "Collecting tf-nightly\n",
            "  Downloading tf_nightly-2.19.0.dev20241219-cp310-cp310-manylinux_2_17_x86_64.manylinux2014_x86_64.whl.metadata (4.1 kB)\n",
            "Requirement already satisfied: absl-py>=1.0.0 in /usr/local/lib/python3.10/dist-packages (from tf-nightly) (1.4.0)\n",
            "Requirement already satisfied: astunparse>=1.6.0 in /usr/local/lib/python3.10/dist-packages (from tf-nightly) (1.6.3)\n",
            "Requirement already satisfied: flatbuffers>=24.3.25 in /usr/local/lib/python3.10/dist-packages (from tf-nightly) (24.3.25)\n",
            "Requirement already satisfied: gast!=0.5.0,!=0.5.1,!=0.5.2,>=0.2.1 in /usr/local/lib/python3.10/dist-packages (from tf-nightly) (0.6.0)\n",
            "Requirement already satisfied: google-pasta>=0.1.1 in /usr/local/lib/python3.10/dist-packages (from tf-nightly) (0.2.0)\n",
            "Requirement already satisfied: libclang>=13.0.0 in /usr/local/lib/python3.10/dist-packages (from tf-nightly) (18.1.1)\n",
            "Requirement already satisfied: opt-einsum>=2.3.2 in /usr/local/lib/python3.10/dist-packages (from tf-nightly) (3.4.0)\n",
            "Requirement already satisfied: packaging in /usr/local/lib/python3.10/dist-packages (from tf-nightly) (24.2)\n",
            "Requirement already satisfied: protobuf!=4.21.0,!=4.21.1,!=4.21.2,!=4.21.3,!=4.21.4,!=4.21.5,<6.0.0dev,>=3.20.3 in /usr/local/lib/python3.10/dist-packages (from tf-nightly) (4.25.5)\n",
            "Requirement already satisfied: requests<3,>=2.21.0 in /usr/local/lib/python3.10/dist-packages (from tf-nightly) (2.32.3)\n",
            "Requirement already satisfied: setuptools in /usr/local/lib/python3.10/dist-packages (from tf-nightly) (75.1.0)\n",
            "Requirement already satisfied: six>=1.12.0 in /usr/local/lib/python3.10/dist-packages (from tf-nightly) (1.17.0)\n",
            "Requirement already satisfied: termcolor>=1.1.0 in /usr/local/lib/python3.10/dist-packages (from tf-nightly) (2.5.0)\n",
            "Requirement already satisfied: typing-extensions>=3.6.6 in /usr/local/lib/python3.10/dist-packages (from tf-nightly) (4.12.2)\n",
            "Requirement already satisfied: wrapt>=1.11.0 in /usr/local/lib/python3.10/dist-packages (from tf-nightly) (1.17.0)\n",
            "Requirement already satisfied: grpcio<2.0,>=1.24.3 in /usr/local/lib/python3.10/dist-packages (from tf-nightly) (1.68.1)\n",
            "Collecting tb-nightly~=2.19.0.a (from tf-nightly)\n",
            "  Downloading tb_nightly-2.19.0a20241226-py3-none-any.whl.metadata (1.6 kB)\n",
            "Collecting keras-nightly>=3.6.0.dev (from tf-nightly)\n",
            "  Downloading keras_nightly-3.7.0.dev2024122703-py3-none-any.whl.metadata (5.8 kB)\n",
            "Requirement already satisfied: numpy<2.2.0,>=1.26.0 in /usr/local/lib/python3.10/dist-packages (from tf-nightly) (1.26.4)\n",
            "Requirement already satisfied: h5py>=3.11.0 in /usr/local/lib/python3.10/dist-packages (from tf-nightly) (3.12.1)\n",
            "Requirement already satisfied: ml-dtypes<1.0.0,>=0.4.0 in /usr/local/lib/python3.10/dist-packages (from tf-nightly) (0.4.1)\n",
            "Requirement already satisfied: tensorflow-io-gcs-filesystem>=0.23.1 in /usr/local/lib/python3.10/dist-packages (from tf-nightly) (0.37.1)\n",
            "Requirement already satisfied: wheel<1.0,>=0.23.0 in /usr/local/lib/python3.10/dist-packages (from astunparse>=1.6.0->tf-nightly) (0.45.1)\n",
            "Requirement already satisfied: rich in /usr/local/lib/python3.10/dist-packages (from keras-nightly>=3.6.0.dev->tf-nightly) (13.9.4)\n",
            "Requirement already satisfied: namex in /usr/local/lib/python3.10/dist-packages (from keras-nightly>=3.6.0.dev->tf-nightly) (0.0.8)\n",
            "Requirement already satisfied: optree in /usr/local/lib/python3.10/dist-packages (from keras-nightly>=3.6.0.dev->tf-nightly) (0.13.1)\n",
            "Requirement already satisfied: charset-normalizer<4,>=2 in /usr/local/lib/python3.10/dist-packages (from requests<3,>=2.21.0->tf-nightly) (3.4.0)\n",
            "Requirement already satisfied: idna<4,>=2.5 in /usr/local/lib/python3.10/dist-packages (from requests<3,>=2.21.0->tf-nightly) (3.10)\n",
            "Requirement already satisfied: urllib3<3,>=1.21.1 in /usr/local/lib/python3.10/dist-packages (from requests<3,>=2.21.0->tf-nightly) (2.2.3)\n",
            "Requirement already satisfied: certifi>=2017.4.17 in /usr/local/lib/python3.10/dist-packages (from requests<3,>=2.21.0->tf-nightly) (2024.12.14)\n",
            "Requirement already satisfied: markdown>=2.6.8 in /usr/local/lib/python3.10/dist-packages (from tb-nightly~=2.19.0.a->tf-nightly) (3.7)\n",
            "Requirement already satisfied: tensorboard-data-server<0.8.0,>=0.7.0 in /usr/local/lib/python3.10/dist-packages (from tb-nightly~=2.19.0.a->tf-nightly) (0.7.2)\n",
            "Requirement already satisfied: werkzeug>=1.0.1 in /usr/local/lib/python3.10/dist-packages (from tb-nightly~=2.19.0.a->tf-nightly) (3.1.3)\n",
            "Requirement already satisfied: MarkupSafe>=2.1.1 in /usr/local/lib/python3.10/dist-packages (from werkzeug>=1.0.1->tb-nightly~=2.19.0.a->tf-nightly) (3.0.2)\n",
            "Requirement already satisfied: markdown-it-py>=2.2.0 in /usr/local/lib/python3.10/dist-packages (from rich->keras-nightly>=3.6.0.dev->tf-nightly) (3.0.0)\n",
            "Requirement already satisfied: pygments<3.0.0,>=2.13.0 in /usr/local/lib/python3.10/dist-packages (from rich->keras-nightly>=3.6.0.dev->tf-nightly) (2.18.0)\n",
            "Requirement already satisfied: mdurl~=0.1 in /usr/local/lib/python3.10/dist-packages (from markdown-it-py>=2.2.0->rich->keras-nightly>=3.6.0.dev->tf-nightly) (0.1.2)\n",
            "Downloading tf_nightly-2.19.0.dev20241219-cp310-cp310-manylinux_2_17_x86_64.manylinux2014_x86_64.whl (634.0 MB)\n",
            "\u001b[2K   \u001b[90m━━━━━━━━━━━━━━━━━━━━━━━━━━━━━━━━━━━━━━━━\u001b[0m \u001b[32m634.0/634.0 MB\u001b[0m \u001b[31m2.2 MB/s\u001b[0m eta \u001b[36m0:00:00\u001b[0m\n",
            "\u001b[?25hDownloading keras_nightly-3.7.0.dev2024122703-py3-none-any.whl (1.3 MB)\n",
            "\u001b[2K   \u001b[90m━━━━━━━━━━━━━━━━━━━━━━━━━━━━━━━━━━━━━━━━\u001b[0m \u001b[32m1.3/1.3 MB\u001b[0m \u001b[31m60.5 MB/s\u001b[0m eta \u001b[36m0:00:00\u001b[0m\n",
            "\u001b[?25hDownloading tb_nightly-2.19.0a20241226-py3-none-any.whl (5.5 MB)\n",
            "\u001b[2K   \u001b[90m━━━━━━━━━━━━━━━━━━━━━━━━━━━━━━━━━━━━━━━━\u001b[0m \u001b[32m5.5/5.5 MB\u001b[0m \u001b[31m96.1 MB/s\u001b[0m eta \u001b[36m0:00:00\u001b[0m\n",
            "\u001b[?25hInstalling collected packages: tb-nightly, keras-nightly, tf-nightly\n",
            "Successfully installed keras-nightly-3.7.0.dev2024122703 tb-nightly-2.19.0a20241226 tf-nightly-2.19.0.dev20241219\n",
            "Requirement already satisfied: tensorflow_datasets in /usr/local/lib/python3.10/dist-packages (4.9.7)\n",
            "Requirement already satisfied: absl-py in /usr/local/lib/python3.10/dist-packages (from tensorflow_datasets) (1.4.0)\n",
            "Requirement already satisfied: click in /usr/local/lib/python3.10/dist-packages (from tensorflow_datasets) (8.1.7)\n",
            "Requirement already satisfied: dm-tree in /usr/local/lib/python3.10/dist-packages (from tensorflow_datasets) (0.1.8)\n",
            "Requirement already satisfied: immutabledict in /usr/local/lib/python3.10/dist-packages (from tensorflow_datasets) (4.2.1)\n",
            "Requirement already satisfied: numpy in /usr/local/lib/python3.10/dist-packages (from tensorflow_datasets) (1.26.4)\n",
            "Requirement already satisfied: promise in /usr/local/lib/python3.10/dist-packages (from tensorflow_datasets) (2.3)\n",
            "Requirement already satisfied: protobuf>=3.20 in /usr/local/lib/python3.10/dist-packages (from tensorflow_datasets) (4.25.5)\n",
            "Requirement already satisfied: psutil in /usr/local/lib/python3.10/dist-packages (from tensorflow_datasets) (5.9.5)\n",
            "Requirement already satisfied: pyarrow in /usr/local/lib/python3.10/dist-packages (from tensorflow_datasets) (17.0.0)\n",
            "Requirement already satisfied: requests>=2.19.0 in /usr/local/lib/python3.10/dist-packages (from tensorflow_datasets) (2.32.3)\n",
            "Requirement already satisfied: simple-parsing in /usr/local/lib/python3.10/dist-packages (from tensorflow_datasets) (0.1.6)\n",
            "Requirement already satisfied: tensorflow-metadata in /usr/local/lib/python3.10/dist-packages (from tensorflow_datasets) (1.13.1)\n",
            "Requirement already satisfied: termcolor in /usr/local/lib/python3.10/dist-packages (from tensorflow_datasets) (2.5.0)\n",
            "Requirement already satisfied: toml in /usr/local/lib/python3.10/dist-packages (from tensorflow_datasets) (0.10.2)\n",
            "Requirement already satisfied: tqdm in /usr/local/lib/python3.10/dist-packages (from tensorflow_datasets) (4.67.1)\n",
            "Requirement already satisfied: wrapt in /usr/local/lib/python3.10/dist-packages (from tensorflow_datasets) (1.17.0)\n",
            "Requirement already satisfied: array-record>=0.5.0 in /usr/local/lib/python3.10/dist-packages (from tensorflow_datasets) (0.5.1)\n",
            "Requirement already satisfied: etils>=1.6.0 in /usr/local/lib/python3.10/dist-packages (from etils[edc,enp,epath,epy,etree]>=1.6.0; python_version < \"3.11\"->tensorflow_datasets) (1.11.0)\n",
            "Requirement already satisfied: fsspec in /usr/local/lib/python3.10/dist-packages (from etils[edc,enp,epath,epy,etree]>=1.6.0; python_version < \"3.11\"->tensorflow_datasets) (2024.10.0)\n",
            "Requirement already satisfied: importlib_resources in /usr/local/lib/python3.10/dist-packages (from etils[edc,enp,epath,epy,etree]>=1.6.0; python_version < \"3.11\"->tensorflow_datasets) (6.4.5)\n",
            "Requirement already satisfied: typing_extensions in /usr/local/lib/python3.10/dist-packages (from etils[edc,enp,epath,epy,etree]>=1.6.0; python_version < \"3.11\"->tensorflow_datasets) (4.12.2)\n",
            "Requirement already satisfied: zipp in /usr/local/lib/python3.10/dist-packages (from etils[edc,enp,epath,epy,etree]>=1.6.0; python_version < \"3.11\"->tensorflow_datasets) (3.21.0)\n",
            "Requirement already satisfied: charset-normalizer<4,>=2 in /usr/local/lib/python3.10/dist-packages (from requests>=2.19.0->tensorflow_datasets) (3.4.0)\n",
            "Requirement already satisfied: idna<4,>=2.5 in /usr/local/lib/python3.10/dist-packages (from requests>=2.19.0->tensorflow_datasets) (3.10)\n",
            "Requirement already satisfied: urllib3<3,>=1.21.1 in /usr/local/lib/python3.10/dist-packages (from requests>=2.19.0->tensorflow_datasets) (2.2.3)\n",
            "Requirement already satisfied: certifi>=2017.4.17 in /usr/local/lib/python3.10/dist-packages (from requests>=2.19.0->tensorflow_datasets) (2024.12.14)\n",
            "Requirement already satisfied: six in /usr/local/lib/python3.10/dist-packages (from promise->tensorflow_datasets) (1.17.0)\n",
            "Requirement already satisfied: docstring-parser<1.0,>=0.15 in /usr/local/lib/python3.10/dist-packages (from simple-parsing->tensorflow_datasets) (0.16)\n",
            "Requirement already satisfied: googleapis-common-protos<2,>=1.52.0 in /usr/local/lib/python3.10/dist-packages (from tensorflow-metadata->tensorflow_datasets) (1.66.0)\n"
          ]
        }
      ],
      "source": [
        "# Quantization debugger is available from TensorFlow 2.7.0\n",
        "!pip uninstall -y tensorflow\n",
        "!pip install tf-nightly\n",
        "!pip install tensorflow_datasets --upgrade  # imagenet_v2 needs latest checksum"
      ]
    },
    {
      "cell_type": "code",
      "execution_count": 10,
      "metadata": {
        "id": "LLsgiUZe_hIa",
        "colab": {
          "base_uri": "https://localhost:8080/",
          "height": 305
        },
        "outputId": "fb6395b7-eca9-410f-9440-61d138714715"
      },
      "outputs": [
        {
          "output_type": "error",
          "ename": "ValueError",
          "evalue": "Only instances of `keras.Layer` can be added to a Sequential model. Received: <tensorflow_hub.keras_layer.KerasLayer object at 0x7e8a49f14130> (of type <class 'tensorflow_hub.keras_layer.KerasLayer'>)",
          "traceback": [
            "\u001b[0;31m---------------------------------------------------------------------------\u001b[0m",
            "\u001b[0;31mValueError\u001b[0m                                Traceback (most recent call last)",
            "\u001b[0;32m<ipython-input-10-4d4ec206c550>\u001b[0m in \u001b[0;36m<cell line: 10>\u001b[0;34m()\u001b[0m\n\u001b[1;32m      8\u001b[0m \u001b[0mmodel\u001b[0m \u001b[0;34m=\u001b[0m \u001b[0mtf\u001b[0m\u001b[0;34m.\u001b[0m\u001b[0mkeras\u001b[0m\u001b[0;34m.\u001b[0m\u001b[0mSequential\u001b[0m\u001b[0;34m(\u001b[0m\u001b[0;34m)\u001b[0m  \u001b[0;31m# Create an empty Sequential model\u001b[0m\u001b[0;34m\u001b[0m\u001b[0;34m\u001b[0m\u001b[0m\n\u001b[1;32m      9\u001b[0m \u001b[0mmodel\u001b[0m\u001b[0;34m.\u001b[0m\u001b[0madd\u001b[0m\u001b[0;34m(\u001b[0m\u001b[0mtf\u001b[0m\u001b[0;34m.\u001b[0m\u001b[0mkeras\u001b[0m\u001b[0;34m.\u001b[0m\u001b[0mlayers\u001b[0m\u001b[0;34m.\u001b[0m\u001b[0mInputLayer\u001b[0m\u001b[0;34m(\u001b[0m\u001b[0mshape\u001b[0m\u001b[0;34m=\u001b[0m\u001b[0;34m(\u001b[0m\u001b[0;36m224\u001b[0m\u001b[0;34m,\u001b[0m \u001b[0;36m224\u001b[0m\u001b[0;34m,\u001b[0m \u001b[0;36m3\u001b[0m\u001b[0;34m)\u001b[0m\u001b[0;34m,\u001b[0m \u001b[0mbatch_size\u001b[0m\u001b[0;34m=\u001b[0m\u001b[0;36m1\u001b[0m\u001b[0;34m)\u001b[0m\u001b[0;34m)\u001b[0m  \u001b[0;31m# Add input layer\u001b[0m\u001b[0;34m\u001b[0m\u001b[0;34m\u001b[0m\u001b[0m\n\u001b[0;32m---> 10\u001b[0;31m \u001b[0mmodel\u001b[0m\u001b[0;34m.\u001b[0m\u001b[0madd\u001b[0m\u001b[0;34m(\u001b[0m\u001b[0mhub\u001b[0m\u001b[0;34m.\u001b[0m\u001b[0mKerasLayer\u001b[0m\u001b[0;34m(\u001b[0m\u001b[0mMODEL_URI\u001b[0m\u001b[0;34m)\u001b[0m\u001b[0;34m)\u001b[0m \u001b[0;31m# Add the KerasLayer\u001b[0m\u001b[0;34m\u001b[0m\u001b[0;34m\u001b[0m\u001b[0m\n\u001b[0m",
            "\u001b[0;32m/usr/local/lib/python3.10/dist-packages/keras/src/models/sequential.py\u001b[0m in \u001b[0;36madd\u001b[0;34m(self, layer, rebuild)\u001b[0m\n\u001b[1;32m     95\u001b[0m                 \u001b[0mlayer\u001b[0m \u001b[0;34m=\u001b[0m \u001b[0morigin_layer\u001b[0m\u001b[0;34m\u001b[0m\u001b[0;34m\u001b[0m\u001b[0m\n\u001b[1;32m     96\u001b[0m         \u001b[0;32mif\u001b[0m \u001b[0;32mnot\u001b[0m \u001b[0misinstance\u001b[0m\u001b[0;34m(\u001b[0m\u001b[0mlayer\u001b[0m\u001b[0;34m,\u001b[0m \u001b[0mLayer\u001b[0m\u001b[0;34m)\u001b[0m\u001b[0;34m:\u001b[0m\u001b[0;34m\u001b[0m\u001b[0;34m\u001b[0m\u001b[0m\n\u001b[0;32m---> 97\u001b[0;31m             raise ValueError(\n\u001b[0m\u001b[1;32m     98\u001b[0m                 \u001b[0;34m\"Only instances of `keras.Layer` can be \"\u001b[0m\u001b[0;34m\u001b[0m\u001b[0;34m\u001b[0m\u001b[0m\n\u001b[1;32m     99\u001b[0m                 \u001b[0;34mf\"added to a Sequential model. Received: {layer} \"\u001b[0m\u001b[0;34m\u001b[0m\u001b[0;34m\u001b[0m\u001b[0m\n",
            "\u001b[0;31mValueError\u001b[0m: Only instances of `keras.Layer` can be added to a Sequential model. Received: <tensorflow_hub.keras_layer.KerasLayer object at 0x7e8a49f14130> (of type <class 'tensorflow_hub.keras_layer.KerasLayer'>)"
          ]
        }
      ],
      "source": [
        "import matplotlib.pyplot as plt\n",
        "import numpy as np\n",
        "import pandas as pd\n",
        "import tensorflow as tf\n",
        "import tensorflow_datasets as tfds\n",
        "import tensorflow_hub as hub\n"
      ]
    },
    {
      "cell_type": "code",
      "execution_count": 12,
      "metadata": {
        "id": "veWjO3u32vzz",
        "colab": {
          "base_uri": "https://localhost:8080/",
          "height": 365
        },
        "outputId": "997dde6e-9cac-451f-94cc-f0b90eaeb99c"
      },
      "outputs": [
        {
          "output_type": "error",
          "ename": "ValueError",
          "evalue": "Only instances of `keras.Layer` can be added to a Sequential model. Received: <tensorflow_hub.keras_layer.KerasLayer object at 0x7e8a4189add0> (of type <class 'tensorflow_hub.keras_layer.KerasLayer'>)",
          "traceback": [
            "\u001b[0;31m---------------------------------------------------------------------------\u001b[0m",
            "\u001b[0;31mValueError\u001b[0m                                Traceback (most recent call last)",
            "\u001b[0;32m<ipython-input-12-5592e9983517>\u001b[0m in \u001b[0;36m<cell line: 46>\u001b[0;34m()\u001b[0m\n\u001b[1;32m     44\u001b[0m \u001b[0;31m#model.add(hub.KerasLayer(MODEL_URI)) # Add the KerasLayer\u001b[0m\u001b[0;34m\u001b[0m\u001b[0;34m\u001b[0m\u001b[0m\n\u001b[1;32m     45\u001b[0m \u001b[0;34m\u001b[0m\u001b[0m\n\u001b[0;32m---> 46\u001b[0;31m model = tf.keras.Sequential([\n\u001b[0m\u001b[1;32m     47\u001b[0m   \u001b[0mtf\u001b[0m\u001b[0;34m.\u001b[0m\u001b[0mkeras\u001b[0m\u001b[0;34m.\u001b[0m\u001b[0mlayers\u001b[0m\u001b[0;34m.\u001b[0m\u001b[0mInput\u001b[0m\u001b[0;34m(\u001b[0m\u001b[0mshape\u001b[0m\u001b[0;34m=\u001b[0m\u001b[0;34m(\u001b[0m\u001b[0;36m224\u001b[0m\u001b[0;34m,\u001b[0m \u001b[0;36m224\u001b[0m\u001b[0;34m,\u001b[0m \u001b[0;36m3\u001b[0m\u001b[0;34m)\u001b[0m\u001b[0;34m,\u001b[0m \u001b[0mbatch_size\u001b[0m\u001b[0;34m=\u001b[0m\u001b[0;36m1\u001b[0m\u001b[0;34m)\u001b[0m\u001b[0;34m,\u001b[0m\u001b[0;34m\u001b[0m\u001b[0;34m\u001b[0m\u001b[0m\n\u001b[1;32m     48\u001b[0m   \u001b[0mhub\u001b[0m\u001b[0;34m.\u001b[0m\u001b[0mKerasLayer\u001b[0m\u001b[0;34m(\u001b[0m\u001b[0mMODEL_URI\u001b[0m\u001b[0;34m)\u001b[0m\u001b[0;34m\u001b[0m\u001b[0;34m\u001b[0m\u001b[0m\n",
            "\u001b[0;32m/usr/local/lib/python3.10/dist-packages/keras/src/models/sequential.py\u001b[0m in \u001b[0;36m__init__\u001b[0;34m(self, layers, trainable, name)\u001b[0m\n\u001b[1;32m     73\u001b[0m         \u001b[0;32mif\u001b[0m \u001b[0mlayers\u001b[0m\u001b[0;34m:\u001b[0m\u001b[0;34m\u001b[0m\u001b[0;34m\u001b[0m\u001b[0m\n\u001b[1;32m     74\u001b[0m             \u001b[0;32mfor\u001b[0m \u001b[0mlayer\u001b[0m \u001b[0;32min\u001b[0m \u001b[0mlayers\u001b[0m\u001b[0;34m:\u001b[0m\u001b[0;34m\u001b[0m\u001b[0;34m\u001b[0m\u001b[0m\n\u001b[0;32m---> 75\u001b[0;31m                 \u001b[0mself\u001b[0m\u001b[0;34m.\u001b[0m\u001b[0madd\u001b[0m\u001b[0;34m(\u001b[0m\u001b[0mlayer\u001b[0m\u001b[0;34m,\u001b[0m \u001b[0mrebuild\u001b[0m\u001b[0;34m=\u001b[0m\u001b[0;32mFalse\u001b[0m\u001b[0;34m)\u001b[0m\u001b[0;34m\u001b[0m\u001b[0;34m\u001b[0m\u001b[0m\n\u001b[0m\u001b[1;32m     76\u001b[0m             \u001b[0mself\u001b[0m\u001b[0;34m.\u001b[0m\u001b[0m_maybe_rebuild\u001b[0m\u001b[0;34m(\u001b[0m\u001b[0;34m)\u001b[0m\u001b[0;34m\u001b[0m\u001b[0;34m\u001b[0m\u001b[0m\n\u001b[1;32m     77\u001b[0m \u001b[0;34m\u001b[0m\u001b[0m\n",
            "\u001b[0;32m/usr/local/lib/python3.10/dist-packages/keras/src/models/sequential.py\u001b[0m in \u001b[0;36madd\u001b[0;34m(self, layer, rebuild)\u001b[0m\n\u001b[1;32m     95\u001b[0m                 \u001b[0mlayer\u001b[0m \u001b[0;34m=\u001b[0m \u001b[0morigin_layer\u001b[0m\u001b[0;34m\u001b[0m\u001b[0;34m\u001b[0m\u001b[0m\n\u001b[1;32m     96\u001b[0m         \u001b[0;32mif\u001b[0m \u001b[0;32mnot\u001b[0m \u001b[0misinstance\u001b[0m\u001b[0;34m(\u001b[0m\u001b[0mlayer\u001b[0m\u001b[0;34m,\u001b[0m \u001b[0mLayer\u001b[0m\u001b[0;34m)\u001b[0m\u001b[0;34m:\u001b[0m\u001b[0;34m\u001b[0m\u001b[0;34m\u001b[0m\u001b[0m\n\u001b[0;32m---> 97\u001b[0;31m             raise ValueError(\n\u001b[0m\u001b[1;32m     98\u001b[0m                 \u001b[0;34m\"Only instances of `keras.Layer` can be \"\u001b[0m\u001b[0;34m\u001b[0m\u001b[0;34m\u001b[0m\u001b[0m\n\u001b[1;32m     99\u001b[0m                 \u001b[0;34mf\"added to a Sequential model. Received: {layer} \"\u001b[0m\u001b[0;34m\u001b[0m\u001b[0;34m\u001b[0m\u001b[0m\n",
            "\u001b[0;31mValueError\u001b[0m: Only instances of `keras.Layer` can be added to a Sequential model. Received: <tensorflow_hub.keras_layer.KerasLayer object at 0x7e8a4189add0> (of type <class 'tensorflow_hub.keras_layer.KerasLayer'>)"
          ]
        }
      ],
      "source": [
        "#@title Boilerplates and helpers\n",
        "MODEL_URI = 'https://tfhub.dev/google/imagenet/mobilenet_v3_small_100_224/classification/5'\n",
        "\n",
        "\n",
        "def process_image(data):\n",
        "  data['image'] = tf.image.resize(data['image'], (224, 224)) / 255.0\n",
        "  return data\n",
        "\n",
        "\n",
        "# Representative dataset\n",
        "def representative_dataset(dataset):\n",
        "\n",
        "  def _data_gen():\n",
        "    for data in dataset.batch(1):\n",
        "      yield [data['image']]\n",
        "\n",
        "  return _data_gen\n",
        "\n",
        "\n",
        "def eval_tflite(tflite_model, dataset):\n",
        "  \"\"\"Evaluates tensorflow lite classification model with the given dataset.\"\"\"\n",
        "  interpreter = tf.lite.Interpreter(model_content=tflite_model)\n",
        "  interpreter.allocate_tensors()\n",
        "\n",
        "  input_idx = interpreter.get_input_details()[0]['index']\n",
        "  output_idx = interpreter.get_output_details()[0]['index']\n",
        "\n",
        "  results = []\n",
        "\n",
        "  for data in representative_dataset(dataset)():\n",
        "    interpreter.set_tensor(input_idx, data[0])\n",
        "    interpreter.invoke()\n",
        "    results.append(interpreter.get_tensor(output_idx).flatten())\n",
        "\n",
        "  results = np.array(results)\n",
        "  gt_labels = np.array(list(dataset.map(lambda data: data['label'] + 1)))\n",
        "  accuracy = (\n",
        "      np.sum(np.argsort(results, axis=1)[:, -5:] == gt_labels.reshape(-1, 1)) /\n",
        "      gt_labels.size)\n",
        "  print(f'Top-5 accuracy (quantized): {accuracy * 100:.2f}%')\n",
        "\n",
        "model = tf.keras.Sequential()  # Create an empty Sequential model\n",
        "model.add(tf.keras.layers.InputLayer(shape=(224, 224, 3), batch_size=1))  # Add input layer\n",
        "#model.add(hub.KerasLayer(MODEL_URI)) # Add the KerasLayer\n",
        "\n",
        "# model = tf.keras.Sequential([\n",
        "#   tf.keras.layers.Input(shape=(224, 224, 3), batch_size=1),\n",
        "#   hub.KerasLayer(MODEL_URI)\n",
        "# ])\n",
        "model.compile(\n",
        "    loss='sparse_categorical_crossentropy',\n",
        "    metrics='sparse_top_k_categorical_accuracy')\n",
        "model.build([1, 224, 224, 3])\n",
        "\n",
        "# Prepare dataset with 100 examples\n",
        "ds = tfds.load('imagenet_v2', split='test[:1%]')\n",
        "ds = ds.map(process_image)\n",
        "\n",
        "converter = tf.lite.TFLiteConverter.from_keras_model(model)\n",
        "converter.representative_dataset = representative_dataset(ds)\n",
        "converter.optimizations = [tf.lite.Optimize.DEFAULT]\n",
        "quantized_model = converter.convert()"
      ]
    },
    {
      "cell_type": "code",
      "execution_count": 3,
      "metadata": {
        "id": "7mX-R-xK4ADB",
        "colab": {
          "base_uri": "https://localhost:8080/",
          "height": 180
        },
        "outputId": "f988b49f-193c-4026-e75b-56bddf914717"
      },
      "outputs": [
        {
          "output_type": "error",
          "ename": "NameError",
          "evalue": "name 'ds' is not defined",
          "traceback": [
            "\u001b[0;31m---------------------------------------------------------------------------\u001b[0m",
            "\u001b[0;31mNameError\u001b[0m                                 Traceback (most recent call last)",
            "\u001b[0;32m<ipython-input-3-1c0d8c8cb646>\u001b[0m in \u001b[0;36m<cell line: 1>\u001b[0;34m()\u001b[0m\n\u001b[0;32m----> 1\u001b[0;31m \u001b[0mtest_ds\u001b[0m \u001b[0;34m=\u001b[0m \u001b[0mds\u001b[0m\u001b[0;34m.\u001b[0m\u001b[0mmap\u001b[0m\u001b[0;34m(\u001b[0m\u001b[0;32mlambda\u001b[0m \u001b[0mdata\u001b[0m\u001b[0;34m:\u001b[0m \u001b[0;34m(\u001b[0m\u001b[0mdata\u001b[0m\u001b[0;34m[\u001b[0m\u001b[0;34m'image'\u001b[0m\u001b[0;34m]\u001b[0m\u001b[0;34m,\u001b[0m \u001b[0mdata\u001b[0m\u001b[0;34m[\u001b[0m\u001b[0;34m'label'\u001b[0m\u001b[0;34m]\u001b[0m \u001b[0;34m+\u001b[0m \u001b[0;36m1\u001b[0m\u001b[0;34m)\u001b[0m\u001b[0;34m)\u001b[0m\u001b[0;34m.\u001b[0m\u001b[0mbatch\u001b[0m\u001b[0;34m(\u001b[0m\u001b[0;36m16\u001b[0m\u001b[0;34m)\u001b[0m\u001b[0;34m\u001b[0m\u001b[0;34m\u001b[0m\u001b[0m\n\u001b[0m\u001b[1;32m      2\u001b[0m \u001b[0mloss\u001b[0m\u001b[0;34m,\u001b[0m \u001b[0macc\u001b[0m \u001b[0;34m=\u001b[0m \u001b[0mmodel\u001b[0m\u001b[0;34m.\u001b[0m\u001b[0mevaluate\u001b[0m\u001b[0;34m(\u001b[0m\u001b[0mtest_ds\u001b[0m\u001b[0;34m)\u001b[0m\u001b[0;34m\u001b[0m\u001b[0;34m\u001b[0m\u001b[0m\n\u001b[1;32m      3\u001b[0m \u001b[0mprint\u001b[0m\u001b[0;34m(\u001b[0m\u001b[0;34mf'Top-5 accuracy (float): {acc * 100:.2f}%'\u001b[0m\u001b[0;34m)\u001b[0m\u001b[0;34m\u001b[0m\u001b[0;34m\u001b[0m\u001b[0m\n",
            "\u001b[0;31mNameError\u001b[0m: name 'ds' is not defined"
          ]
        }
      ],
      "source": [
        "test_ds = ds.map(lambda data: (data['image'], data['label'] + 1)).batch(16)\n",
        "loss, acc = model.evaluate(test_ds)\n",
        "print(f'Top-5 accuracy (float): {acc * 100:.2f}%')"
      ]
    },
    {
      "cell_type": "code",
      "execution_count": 5,
      "metadata": {
        "id": "Mnp6yBnJSCoh",
        "colab": {
          "base_uri": "https://localhost:8080/",
          "height": 144
        },
        "outputId": "7997943c-62a4-46b7-cd04-0638e15f9362"
      },
      "outputs": [
        {
          "output_type": "error",
          "ename": "NameError",
          "evalue": "name 'quantized_model' is not defined",
          "traceback": [
            "\u001b[0;31m---------------------------------------------------------------------------\u001b[0m",
            "\u001b[0;31mNameError\u001b[0m                                 Traceback (most recent call last)",
            "\u001b[0;32m<ipython-input-5-a6d8e8ce1e6c>\u001b[0m in \u001b[0;36m<cell line: 1>\u001b[0;34m()\u001b[0m\n\u001b[0;32m----> 1\u001b[0;31m \u001b[0meval_tflite\u001b[0m\u001b[0;34m(\u001b[0m\u001b[0mquantized_model\u001b[0m\u001b[0;34m,\u001b[0m \u001b[0mds\u001b[0m\u001b[0;34m)\u001b[0m\u001b[0;34m\u001b[0m\u001b[0;34m\u001b[0m\u001b[0m\n\u001b[0m",
            "\u001b[0;31mNameError\u001b[0m: name 'quantized_model' is not defined"
          ]
        }
      ],
      "source": [
        "eval_tflite(quantized_model, ds)"
      ]
    },
    {
      "cell_type": "markdown",
      "metadata": {
        "id": "Tblkk3cxxpuw"
      },
      "source": [
        "We can see that the original model has a much higher top-5 accuracy for our\n",
        "small dataset, while the quantized model has a significant accuracy loss."
      ]
    },
    {
      "cell_type": "markdown",
      "metadata": {
        "id": "dBBcfCQw_Wqd"
      },
      "source": [
        "### Step 1. Debugger preparation\n",
        "\n",
        "Easiest way to use the quantization debugger is to provide\n",
        "`tf.lite.TFLiteConverter` that you have been using to quantize the model."
      ]
    },
    {
      "cell_type": "code",
      "execution_count": 6,
      "metadata": {
        "id": "NOByihbD_NZZ",
        "colab": {
          "base_uri": "https://localhost:8080/",
          "height": 216
        },
        "outputId": "030876fa-35e1-407c-8306-20d5830073b8"
      },
      "outputs": [
        {
          "output_type": "error",
          "ename": "NameError",
          "evalue": "name 'model' is not defined",
          "traceback": [
            "\u001b[0;31m---------------------------------------------------------------------------\u001b[0m",
            "\u001b[0;31mNameError\u001b[0m                                 Traceback (most recent call last)",
            "\u001b[0;32m<ipython-input-6-adadff0bf8f5>\u001b[0m in \u001b[0;36m<cell line: 1>\u001b[0;34m()\u001b[0m\n\u001b[0;32m----> 1\u001b[0;31m \u001b[0mconverter\u001b[0m \u001b[0;34m=\u001b[0m \u001b[0mtf\u001b[0m\u001b[0;34m.\u001b[0m\u001b[0mlite\u001b[0m\u001b[0;34m.\u001b[0m\u001b[0mTFLiteConverter\u001b[0m\u001b[0;34m.\u001b[0m\u001b[0mfrom_keras_model\u001b[0m\u001b[0;34m(\u001b[0m\u001b[0mmodel\u001b[0m\u001b[0;34m)\u001b[0m\u001b[0;34m\u001b[0m\u001b[0;34m\u001b[0m\u001b[0m\n\u001b[0m\u001b[1;32m      2\u001b[0m \u001b[0mconverter\u001b[0m\u001b[0;34m.\u001b[0m\u001b[0moptimizations\u001b[0m \u001b[0;34m=\u001b[0m \u001b[0;34m[\u001b[0m\u001b[0mtf\u001b[0m\u001b[0;34m.\u001b[0m\u001b[0mlite\u001b[0m\u001b[0;34m.\u001b[0m\u001b[0mOptimize\u001b[0m\u001b[0;34m.\u001b[0m\u001b[0mDEFAULT\u001b[0m\u001b[0;34m]\u001b[0m\u001b[0;34m\u001b[0m\u001b[0;34m\u001b[0m\u001b[0m\n\u001b[1;32m      3\u001b[0m \u001b[0mconverter\u001b[0m\u001b[0;34m.\u001b[0m\u001b[0mrepresentative_dataset\u001b[0m \u001b[0;34m=\u001b[0m \u001b[0mrepresentative_dataset\u001b[0m\u001b[0;34m(\u001b[0m\u001b[0mds\u001b[0m\u001b[0;34m)\u001b[0m\u001b[0;34m\u001b[0m\u001b[0;34m\u001b[0m\u001b[0m\n\u001b[1;32m      4\u001b[0m \u001b[0;34m\u001b[0m\u001b[0m\n\u001b[1;32m      5\u001b[0m \u001b[0;31m# my_debug_dataset should have the same format as my_representative_dataset\u001b[0m\u001b[0;34m\u001b[0m\u001b[0;34m\u001b[0m\u001b[0m\n",
            "\u001b[0;31mNameError\u001b[0m: name 'model' is not defined"
          ]
        }
      ],
      "source": [
        "converter = tf.lite.TFLiteConverter.from_keras_model(model)\n",
        "converter.optimizations = [tf.lite.Optimize.DEFAULT]\n",
        "converter.representative_dataset = representative_dataset(ds)\n",
        "\n",
        "# my_debug_dataset should have the same format as my_representative_dataset\n",
        "debugger = tf.lite.experimental.QuantizationDebugger(\n",
        "    converter=converter, debug_dataset=representative_dataset(ds))"
      ]
    },
    {
      "cell_type": "markdown",
      "metadata": {
        "id": "9vR1IIrmQS9W"
      },
      "source": [
        "### Step 2. Running the debugger and getting the results\n",
        "\n",
        "When you call `QuantizationDebugger.run()`, the debugger will log differences\n",
        "between float tensors and quantized tensors for the same op location, and\n",
        "process them with given metrics."
      ]
    },
    {
      "cell_type": "code",
      "execution_count": null,
      "metadata": {
        "id": "HsUM54g-_E52"
      },
      "outputs": [],
      "source": [
        "debugger.run()"
      ]
    },
    {
      "cell_type": "markdown",
      "metadata": {
        "id": "yQpX_SBUQXvr"
      },
      "source": [
        "The processed metrics can be accessed with\n",
        "`QuantizationDebugger.layer_statistics`, or can be dumped to a text file in CSV\n",
        "format with `QuantizationDebugger.layer_statistics_dump()`."
      ]
    },
    {
      "cell_type": "code",
      "execution_count": null,
      "metadata": {
        "id": "U-AGYUAbQUmx"
      },
      "outputs": [],
      "source": [
        "RESULTS_FILE = '/tmp/debugger_results.csv'\n",
        "with open(RESULTS_FILE, 'w') as f:\n",
        "  debugger.layer_statistics_dump(f)"
      ]
    },
    {
      "cell_type": "code",
      "execution_count": null,
      "metadata": {
        "id": "LQzEi6VnQaen"
      },
      "outputs": [],
      "source": [
        "!head /tmp/debugger_results.csv"
      ]
    },
    {
      "cell_type": "markdown",
      "metadata": {
        "id": "4np7VqU-Qfke"
      },
      "source": [
        "For each row in the dump, the op name and index comes first, followed by\n",
        "quantization parameters and error metrics (including\n",
        "[user-defined error metrics](#custom-metrics), if any). The resulting CSV file\n",
        "can be used to pick problematic layers with large quantization error metrics.\n",
        "\n",
        "With pandas or other data processing libraries, we can inspect detailed\n",
        "per-layer error metrics."
      ]
    },
    {
      "cell_type": "code",
      "execution_count": null,
      "metadata": {
        "id": "XUcSqYFGQb-f"
      },
      "outputs": [],
      "source": [
        "layer_stats = pd.read_csv(RESULTS_FILE)\n",
        "layer_stats.head()"
      ]
    },
    {
      "cell_type": "markdown",
      "metadata": {
        "id": "7C_oHxWFOV6M"
      },
      "source": [
        "### Step 3. Data analysis\n",
        "\n",
        "There are various ways to analyze the resulting. First, let's add some useful\n",
        "metrics derived from the debugger's outputs. (`scale` means the quantization\n",
        "scale factor for each tensor.)\n",
        "\n",
        "*   Range (`256 / scale`)\n",
        "*   RMSE / scale (`sqrt(mean_squared_error) / scale`)\n",
        "\n",
        "The `RMSE / scale` is close to `1 / sqrt(12)` (~ 0.289) when quantized\n",
        "distribution is similar to the original float distribution, indicating a good\n",
        "quantized model. The larger the value is, it's more likely for the layer not\n",
        "being quantized well."
      ]
    },
    {
      "cell_type": "code",
      "execution_count": null,
      "metadata": {
        "id": "mwviORyJN6e5"
      },
      "outputs": [],
      "source": [
        "layer_stats['range'] = 255.0 * layer_stats['scale']\n",
        "layer_stats['rmse/scale'] = layer_stats.apply(\n",
        "    lambda row: np.sqrt(row['mean_squared_error']) / row['scale'], axis=1)\n",
        "layer_stats[['op_name', 'range', 'rmse/scale']].head()"
      ]
    },
    {
      "cell_type": "code",
      "execution_count": null,
      "metadata": {
        "id": "oAAv35CdPvc4"
      },
      "outputs": [],
      "source": [
        "plt.figure(figsize=(15, 5))\n",
        "ax1 = plt.subplot(121)\n",
        "ax1.bar(np.arange(len(layer_stats)), layer_stats['range'])\n",
        "ax1.set_ylabel('range')\n",
        "ax2 = plt.subplot(122)\n",
        "ax2.bar(np.arange(len(layer_stats)), layer_stats['rmse/scale'])\n",
        "ax2.set_ylabel('rmse/scale')\n",
        "plt.show()"
      ]
    },
    {
      "cell_type": "markdown",
      "metadata": {
        "id": "8pqUQvRUWB3Q"
      },
      "source": [
        "There are many layers with wide ranges, and some layers that have high\n",
        "`RMSE/scale` values. Let's get the layers with high error metrics."
      ]
    },
    {
      "cell_type": "code",
      "execution_count": null,
      "metadata": {
        "id": "UqFsUX4_Q-cE"
      },
      "outputs": [],
      "source": [
        "layer_stats[layer_stats['rmse/scale'] > 0.7][[\n",
        "    'op_name', 'range', 'rmse/scale', 'tensor_name'\n",
        "]]"
      ]
    },
    {
      "cell_type": "markdown",
      "metadata": {
        "id": "DHeALFTGWl_e"
      },
      "source": [
        "With these layers, you can try selective quantization to see if not quantizing\n",
        "those layers improves model quality."
      ]
    },
    {
      "cell_type": "code",
      "execution_count": null,
      "metadata": {
        "id": "cvdkjsbwYC6e"
      },
      "outputs": [],
      "source": [
        "suspected_layers = list(\n",
        "    layer_stats[layer_stats['rmse/scale'] > 0.7]['tensor_name'])"
      ]
    },
    {
      "cell_type": "markdown",
      "metadata": {
        "id": "W6RQw9JobOTR"
      },
      "source": [
        "In addition to these, skipping quantization for the first few layers also helps\n",
        "improving quantized model's quality."
      ]
    },
    {
      "cell_type": "code",
      "execution_count": null,
      "metadata": {
        "id": "ikF2bp6NZcXN"
      },
      "outputs": [],
      "source": [
        "suspected_layers.extend(list(layer_stats[:5]['tensor_name']))"
      ]
    },
    {
      "cell_type": "markdown",
      "metadata": {
        "id": "1DfT78w6W6Li"
      },
      "source": [
        "## Selective Quantization"
      ]
    },
    {
      "cell_type": "markdown",
      "metadata": {
        "id": "-pubC-01cGEH"
      },
      "source": [
        "Selective quantization skips quantization for some nodes, so that the\n",
        "calculation can happen in the original floating-point domain. When correct\n",
        "layers are skipped, we can expect some model quality recovery at the cost of\n",
        "increased latency and model size.\n",
        "\n",
        "However, if you're planning to run quantized models on integer-only accelerators\n",
        "(e.g. Hexagon DSP, EdgeTPU), selective quantization would cause fragmentation of\n",
        "the model and would result in slower inference latency mainly caused by data\n",
        "transfer cost between CPU and those accelerators. To prevent this, you can\n",
        "consider running\n",
        "[quantization aware training](https://www.tensorflow.org/model_optimization/guide/quantization/training)\n",
        "to keep all the layers in integer while preserving the model accuracy."
      ]
    },
    {
      "cell_type": "markdown",
      "metadata": {
        "id": "EQFBfR7YW-oh"
      },
      "source": [
        "Quantization debugger's option accepts `denylisted_nodes` and `denylisted_ops`\n",
        "options for skipping quantization for specific layers, or all instances of\n",
        "specific ops. Using `suspected_layers` we prepared from the previous step, we\n",
        "can use quantization debugger to get a selectively quantized model."
      ]
    },
    {
      "cell_type": "code",
      "execution_count": null,
      "metadata": {
        "id": "K5KD0JAEbpsv"
      },
      "outputs": [],
      "source": [
        "debug_options = tf.lite.experimental.QuantizationDebugOptions(\n",
        "    denylisted_nodes=suspected_layers)\n",
        "debugger = tf.lite.experimental.QuantizationDebugger(\n",
        "    converter=converter,\n",
        "    debug_dataset=representative_dataset(ds),\n",
        "    debug_options=debug_options)"
      ]
    },
    {
      "cell_type": "code",
      "execution_count": null,
      "metadata": {
        "id": "pfj9gzv4b7h4"
      },
      "outputs": [],
      "source": [
        "selective_quantized_model = debugger.get_nondebug_quantized_model()\n",
        "eval_tflite(selective_quantized_model, ds)"
      ]
    },
    {
      "cell_type": "markdown",
      "metadata": {
        "id": "1RkfMYSHdtZy"
      },
      "source": [
        "The accuracy is still lower compared to the original float model, but we have\n",
        "notable improvement from the whole quantized model by skipping quantization for\n",
        "~10 layers out of 111 layers.\n",
        "\n",
        "You can also try to not quantized all ops in the same class. For example, to\n",
        "skip quantization for all mean ops, you can pass `MEAN` to `denylisted_ops`."
      ]
    },
    {
      "cell_type": "code",
      "execution_count": null,
      "metadata": {
        "id": "ruUoP7SgcLpO"
      },
      "outputs": [],
      "source": [
        "debug_options = tf.lite.experimental.QuantizationDebugOptions(\n",
        "    denylisted_ops=['MEAN'])\n",
        "debugger = tf.lite.experimental.QuantizationDebugger(\n",
        "    converter=converter,\n",
        "    debug_dataset=representative_dataset(ds),\n",
        "    debug_options=debug_options)"
      ]
    },
    {
      "cell_type": "code",
      "execution_count": null,
      "metadata": {
        "id": "oY6kb5g_cO4H"
      },
      "outputs": [],
      "source": [
        "selective_quantized_model = debugger.get_nondebug_quantized_model()\n",
        "eval_tflite(selective_quantized_model, ds)"
      ]
    },
    {
      "cell_type": "markdown",
      "metadata": {
        "id": "xa8488TeAyx-"
      },
      "source": [
        "With these techniques, we are able to improve the quantized MobileNet V3 model\n",
        "accuracy. Next we'll explore advanced techniques to improve the model accuracy\n",
        "even more."
      ]
    },
    {
      "cell_type": "markdown",
      "metadata": {
        "id": "ZD75cY9PUb2u"
      },
      "source": [
        "## Advanced usages\n",
        "\n",
        "Whith following features, you can further customize your debugging pipeline."
      ]
    },
    {
      "cell_type": "markdown",
      "metadata": {
        "id": "aVj9yrQoUfGo"
      },
      "source": [
        "### Custom metrics\n",
        "\n",
        "By default, the quantization debugger emits five metrics for each float-quant\n",
        "difference: tensor size, standard deviation, mean error, max absolute error, and\n",
        "mean squared error. You can add more custom metrics by passing them to options.\n",
        "For each metrics, the result should be a single float value and the resulting\n",
        "metric will be an average of metrics from all examples.\n",
        "\n",
        "*   `layer_debug_metrics`: calculate metric based on diff for each op outputs\n",
        "    from float and quantized op outputs.\n",
        "*   `layer_direct_compare_metrics`: rather than getting diff only, this will\n",
        "    calculate metric based on raw float and quantized tensors, and its\n",
        "    quantization parameters (scale, zero point)\n",
        "*   `model_debug_metrics`: **only used when `float_model_(path|content)` is\n",
        "    passed** to the debugger. In addition to the op-level metrics, final layer\n",
        "    output is compared to the reference output from the original float model."
      ]
    },
    {
      "cell_type": "code",
      "execution_count": null,
      "metadata": {
        "id": "WqmRQSxoVVwu"
      },
      "outputs": [],
      "source": [
        "debug_options = tf.lite.experimental.QuantizationDebugOptions(\n",
        "    layer_debug_metrics={\n",
        "        'mean_abs_error': (lambda diff: np.mean(np.abs(diff)))\n",
        "    },\n",
        "    layer_direct_compare_metrics={\n",
        "        'correlation':\n",
        "            lambda f, q, s, zp: (np.corrcoef(f.flatten(),\n",
        "                                             (q.flatten() - zp) / s)[0, 1])\n",
        "    },\n",
        "    model_debug_metrics={\n",
        "        'argmax_accuracy': (lambda f, q: np.mean(np.argmax(f) == np.argmax(q)))\n",
        "    })\n",
        "\n",
        "debugger = tf.lite.experimental.QuantizationDebugger(\n",
        "    converter=converter,\n",
        "    debug_dataset=representative_dataset(ds),\n",
        "    debug_options=debug_options)"
      ]
    },
    {
      "cell_type": "code",
      "execution_count": null,
      "metadata": {
        "id": "PVQ4nEicXz2l"
      },
      "outputs": [],
      "source": [
        "debugger.run()"
      ]
    },
    {
      "cell_type": "code",
      "execution_count": null,
      "metadata": {
        "id": "dfKA90csX9UL"
      },
      "outputs": [],
      "source": [
        "CUSTOM_RESULTS_FILE = '/tmp/debugger_results.csv'\n",
        "with open(CUSTOM_RESULTS_FILE, 'w') as f:\n",
        "  debugger.layer_statistics_dump(f)\n",
        "\n",
        "custom_layer_stats = pd.read_csv(CUSTOM_RESULTS_FILE)\n",
        "custom_layer_stats[['op_name', 'mean_abs_error', 'correlation']].tail()"
      ]
    },
    {
      "cell_type": "markdown",
      "metadata": {
        "id": "Qqq30oWsZF5b"
      },
      "source": [
        "The result of `model_debug_metrics` can be separately seen from\n",
        "`debugger.model_statistics`."
      ]
    },
    {
      "cell_type": "code",
      "execution_count": null,
      "metadata": {
        "id": "wrXlmzEHYhQ5"
      },
      "outputs": [],
      "source": [
        "debugger.model_statistics"
      ]
    },
    {
      "cell_type": "markdown",
      "metadata": {
        "id": "DqJBLIsoUyIg"
      },
      "source": [
        "### Using (internal) mlir_quantize API to access in-depth features\n",
        "\n",
        "Note: Some features in the folowing section,\n",
        "`TFLiteConverter._experimental_calibrate_only` and `converter.mlir_quantize` are\n",
        "experimental internal APIs, and subject to change in a non-backward compatible\n",
        "way."
      ]
    },
    {
      "cell_type": "code",
      "execution_count": null,
      "metadata": {
        "id": "VJm66Cz-XpeF"
      },
      "outputs": [],
      "source": [
        "from tensorflow.lite.python import convert"
      ]
    },
    {
      "cell_type": "markdown",
      "metadata": {
        "id": "2krUVzpiUp3u"
      },
      "source": [
        "#### Whole model verify mode\n",
        "\n",
        "The default behavior for the debug model generation is per-layer verify. In this\n",
        "mode, the input for float and quantize op pair is from the same source (previous\n",
        "quantized op). Another mode is whole-model verify, where the float and quantize\n",
        "models are separated. This mode would be useful to observe how the error is\n",
        "being propagated down the model. To enable, `enable_whole_model_verify=True` to\n",
        "`convert.mlir_quantize` while generating the debug model manually."
      ]
    },
    {
      "cell_type": "code",
      "execution_count": null,
      "metadata": {
        "id": "5zykINDlVLSg"
      },
      "outputs": [],
      "source": [
        "converter = tf.lite.TFLiteConverter.from_keras_model(model)\n",
        "converter.representative_dataset = representative_dataset(ds)\n",
        "converter.optimizations = [tf.lite.Optimize.DEFAULT]\n",
        "converter._experimental_calibrate_only = True\n",
        "calibrated_model = converter.convert()"
      ]
    },
    {
      "cell_type": "code",
      "execution_count": null,
      "metadata": {
        "id": "eqvXlEiFXfSu"
      },
      "outputs": [],
      "source": [
        "# Note that enable_numeric_verify and enable_whole_model_verify are set.\n",
        "quantized_model = convert.mlir_quantize(\n",
        "    calibrated_model,\n",
        "    enable_numeric_verify=True,\n",
        "    enable_whole_model_verify=True)\n",
        "debugger = tf.lite.experimental.QuantizationDebugger(\n",
        "    quant_debug_model_content=quantized_model,\n",
        "    debug_dataset=representative_dataset(ds))"
      ]
    },
    {
      "cell_type": "markdown",
      "metadata": {
        "id": "xQ6TFsXQVHMe"
      },
      "source": [
        "#### Selective quantization from an already calibrated model\n",
        "\n",
        "You can directly call `convert.mlir_quantize` to get the selective quantized\n",
        "model from already calibrated model. This would be particularly useful when you\n",
        "want to calibrate the model once, and experiment with various denylist\n",
        "combinations."
      ]
    },
    {
      "cell_type": "code",
      "execution_count": null,
      "metadata": {
        "id": "ZCS-Fa9lbdc0"
      },
      "outputs": [],
      "source": [
        "selective_quantized_model = convert.mlir_quantize(\n",
        "    calibrated_model, denylisted_nodes=suspected_layers)\n",
        "eval_tflite(selective_quantized_model, ds)"
      ]
    }
  ],
  "metadata": {
    "colab": {
      "collapsed_sections": [
        "Eq_8T2oauIED"
      ],
      "name": "quantization_debugger.ipynb",
      "provenance": [],
      "toc_visible": true
    },
    "kernelspec": {
      "display_name": "Python 3",
      "name": "python3"
    }
  },
  "nbformat": 4,
  "nbformat_minor": 0
}